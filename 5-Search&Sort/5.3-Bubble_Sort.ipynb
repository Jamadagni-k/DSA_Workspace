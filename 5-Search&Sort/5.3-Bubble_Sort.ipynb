{
 "cells": [
  {
   "cell_type": "markdown",
   "id": "d05df616",
   "metadata": {},
   "source": [
    "Bubble Sort Algorithm\n",
    "12 11 25 34 90 22\n",
    "Swap 12 to 11 since 12 > 11 and keep on doing this\n",
    "\n",
    "1. The larget element is 90 is at the right position.\n",
    "2. We need len -1 passes to do the sorting \n"
   ]
  },
  {
   "cell_type": "code",
   "execution_count": 5,
   "id": "6f56a5dc",
   "metadata": {},
   "outputs": [],
   "source": [
    "def bubblesort(lst):\n",
    "    n=len(lst)\n",
    "    for i in range(n):\n",
    "        for j in range(0,n-i-1):\n",
    "            if lst[j]>lst[j+1]:\n",
    "                lst[j],lst[j+1]=lst[j+1],lst[j]\n",
    "        return lst\n",
    "    "
   ]
  },
  {
   "cell_type": "code",
   "execution_count": 6,
   "id": "b0d13bcf",
   "metadata": {},
   "outputs": [
    {
     "name": "stdout",
     "output_type": "stream",
     "text": [
      "[34, 25, 12, 22, 11, 64]\n"
     ]
    }
   ],
   "source": [
    "result = bubblesort([64, 34, 25, 12, 22, 11])\n",
    "print(result)"
   ]
  },
  {
   "cell_type": "code",
   "execution_count": 13,
   "id": "055c7dfc",
   "metadata": {},
   "outputs": [
    {
     "name": "stdout",
     "output_type": "stream",
     "text": [
      "Sorted list is: [11, 12, 22, 25, 34, 90]\n"
     ]
    }
   ],
   "source": [
    "def bubble_sort(arr):\n",
    "    n=len(arr)\n",
    "    for passes in range(0,n):\n",
    "        for j in range(0,n-1-passes):\n",
    "            if arr[j]>arr[j+1]:\n",
    "                arr[j],arr[j+1] = arr[j+1],arr[j]\n",
    "    return arr\n",
    "\n",
    "\n",
    "unsorted_list = [12,25,11,34,90,22] #[5,4,3,2,1]\n",
    "sorted_list = bubble_sort(unsorted_list)\n",
    "print(\"Sorted list is:\", sorted_list)"
   ]
  },
  {
   "cell_type": "code",
   "execution_count": null,
   "id": "aead839b",
   "metadata": {},
   "outputs": [],
   "source": []
  },
  {
   "cell_type": "code",
   "execution_count": null,
   "id": "48a67a11",
   "metadata": {},
   "outputs": [],
   "source": [
    " "
   ]
  },
  {
   "cell_type": "code",
   "execution_count": null,
   "id": "46308630",
   "metadata": {},
   "outputs": [],
   "source": []
  }
 ],
 "metadata": {
  "kernelspec": {
   "display_name": "pydsa (3.13.3)",
   "language": "python",
   "name": "python3"
  },
  "language_info": {
   "codemirror_mode": {
    "name": "ipython",
    "version": 3
   },
   "file_extension": ".py",
   "mimetype": "text/x-python",
   "name": "python",
   "nbconvert_exporter": "python",
   "pygments_lexer": "ipython3",
   "version": "3.13.3"
  }
 },
 "nbformat": 4,
 "nbformat_minor": 5
}
