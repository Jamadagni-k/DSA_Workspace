{
 "cells": [
  {
   "cell_type": "code",
   "execution_count": 2,
   "id": "6254e1a4",
   "metadata": {},
   "outputs": [
    {
     "name": "stdout",
     "output_type": "stream",
     "text": [
      "-1\n"
     ]
    }
   ],
   "source": [
    "def linear_search(arr,target):\n",
    "    size = len(arr)\n",
    "    for index in range(0,size):\n",
    "        if (arr[index]== target):\n",
    "            return index\n",
    "    return -1\n",
    "\n",
    "my_list = [10,23,45,70,11]\n",
    "\n",
    "target =700\n",
    "result = linear_search(my_list,target)\n",
    "print(result)"
   ]
  },
  {
   "cell_type": "code",
   "execution_count": null,
   "id": "e071d6fe",
   "metadata": {},
   "outputs": [],
   "source": []
  }
 ],
 "metadata": {
  "kernelspec": {
   "display_name": "pydsa (3.13.3)",
   "language": "python",
   "name": "python3"
  },
  "language_info": {
   "codemirror_mode": {
    "name": "ipython",
    "version": 3
   },
   "file_extension": ".py",
   "mimetype": "text/x-python",
   "name": "python",
   "nbconvert_exporter": "python",
   "pygments_lexer": "ipython3",
   "version": "3.13.3"
  }
 },
 "nbformat": 4,
 "nbformat_minor": 5
}
