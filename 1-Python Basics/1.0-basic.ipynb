{
 "cells": [
  {
   "cell_type": "code",
   "execution_count": null,
   "id": "bdb8120c",
   "metadata": {},
   "outputs": [
    {
     "name": "stdout",
     "output_type": "stream",
     "text": [
      "jamadagni\n",
      "Kotamsetty\n"
     ]
    }
   ],
   "source": [
    "name = \"jamadagni\"\n",
    "Name = \"Kotamsetty\"\n",
    "print(name)\n",
    "print(Name)\n",
    "#this shows that the variable names in python are case sensitive \n",
    "#observe variable names \"Name\" and \"name\" same sense but different strings assigned"
   ]
  },
  {
   "cell_type": "code",
   "execution_count": 9,
   "id": "e4833b38",
   "metadata": {},
   "outputs": [
    {
     "name": "stdout",
     "output_type": "stream",
     "text": [
      "32\n"
     ]
    }
   ],
   "source": [
    "#python uses indentation to define the blocks of code \n",
    "age=32\n",
    "if age<30:\n",
    "    print (age)\n",
    "    \n",
    "print(age)"
   ]
  },
  {
   "cell_type": "code",
   "execution_count": 10,
   "id": "b2ead72f",
   "metadata": {},
   "outputs": [
    {
     "name": "stdout",
     "output_type": "stream",
     "text": [
      "28\n"
     ]
    }
   ],
   "source": [
    "#line continuation for long statement use (\\) backslash to continue statement in next line\n",
    "total = 1+2+3+4+\\\n",
    "5+6+7\n",
    "\n",
    "print(total)"
   ]
  },
  {
   "cell_type": "code",
   "execution_count": 11,
   "id": "a6b58e51",
   "metadata": {},
   "outputs": [],
   "source": [
    "##Undersatnd Semantics in Python\n",
    "age =32\n",
    "name =\"Krish\""
   ]
  },
  {
   "cell_type": "code",
   "execution_count": 13,
   "id": "2a40a721",
   "metadata": {},
   "outputs": [
    {
     "data": {
      "text/plain": [
       "int"
      ]
     },
     "execution_count": 13,
     "metadata": {},
     "output_type": "execute_result"
    }
   ],
   "source": [
    "#Type Inference with key\n",
    "type(age)\n"
   ]
  },
  {
   "cell_type": "code",
   "execution_count": 14,
   "id": "6547ba30",
   "metadata": {},
   "outputs": [
    {
     "data": {
      "text/plain": [
       "str"
      ]
     },
     "execution_count": 14,
     "metadata": {},
     "output_type": "execute_result"
    }
   ],
   "source": [
    "type(name)"
   ]
  },
  {
   "cell_type": "code",
   "execution_count": 17,
   "id": "baf24860",
   "metadata": {},
   "outputs": [
    {
     "name": "stdout",
     "output_type": "stream",
     "text": [
      "Correct Indentation\n",
      "This will print\n",
      "Outside the if block\n"
     ]
    }
   ],
   "source": [
    "#Code examples of Indentation\n",
    "if True:\n",
    "    print(\"Correct Indentation\")\n",
    "    if False:\n",
    "        print(\"This won't print\")\n",
    "    print(\"This will print\")\n",
    "print(\"Outside the if block\")"
   ]
  },
  {
   "cell_type": "code",
   "execution_count": null,
   "id": "c90bcb0e",
   "metadata": {},
   "outputs": [],
   "source": []
  }
 ],
 "metadata": {
  "kernelspec": {
   "display_name": "pydsa",
   "language": "python",
   "name": "python3"
  },
  "language_info": {
   "codemirror_mode": {
    "name": "ipython",
    "version": 3
   },
   "file_extension": ".py",
   "mimetype": "text/x-python",
   "name": "python",
   "nbconvert_exporter": "python",
   "pygments_lexer": "ipython3",
   "version": "3.12.11"
  }
 },
 "nbformat": 4,
 "nbformat_minor": 5
}
