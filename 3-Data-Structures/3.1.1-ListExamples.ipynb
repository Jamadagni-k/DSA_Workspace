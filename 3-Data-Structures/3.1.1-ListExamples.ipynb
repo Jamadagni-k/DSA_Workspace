{
 "cells": [
  {
   "cell_type": "markdown",
   "id": "9b053c7f",
   "metadata": {},
   "source": [
    "## Example 1 Mange a To Do List\n",
    " # Create a To Do List to Keep Track of Tasks"
   ]
  },
  {
   "cell_type": "code",
   "execution_count": 2,
   "id": "d5eb6ed2",
   "metadata": {},
   "outputs": [
    {
     "name": "stdout",
     "output_type": "stream",
     "text": [
      "['Buy Groceries', 'Clean the house', 'Pay bills', 'Schedule meeting', 'Go for a Run']\n",
      "To Do List remaining\n",
      "Buy Groceries\n",
      "Pay bills\n",
      "Schedule meeting\n",
      "Go for a Run\n"
     ]
    }
   ],
   "source": [
    "to_do_list = [\"Buy Groceries\",\"Clean the house\",\"Pay bills\"]\n",
    "\n",
    "## Adding to task\n",
    "to_do_list.append(\"Schedule meeting\")\n",
    "to_do_list.append(\"Go for a Run\")\n",
    "print(to_do_list)\n",
    "## Removing a completed task\n",
    "to_do_list.remove(\"Clean the house\")\n",
    "\n",
    "## Checking if the task is in the list\n",
    "if \"Pay bills \" in to_do_list:\n",
    "    print(\"Dont forget to pay the utility bills\")\n",
    "\n",
    "print(\"To Do List remaining\")\n",
    "for task in to_do_list:\n",
    "    print(f\"{task}\")"
   ]
  },
  {
   "cell_type": "markdown",
   "id": "980a42dc",
   "metadata": {},
   "source": [
    "#Example 2: Organizing Student Grades\n",
    "#Create a list of student grades and calculate average grades for students"
   ]
  },
  {
   "cell_type": "code",
   "execution_count": 8,
   "id": "0c459de0",
   "metadata": {},
   "outputs": [
    {
     "name": "stdout",
     "output_type": "stream",
     "text": [
      "Average Grade:88.0\n",
      "Highest grade : 95\n",
      "Lowest grade: 78\n"
     ]
    }
   ],
   "source": [
    "#List of grades\n",
    "grades = [85,92,78,90,88]\n",
    "\n",
    "#Adding new grade\n",
    "grades.append(95)\n",
    "\n",
    "#Calculating the average grade\n",
    "average_grade = sum(grades)/len(grades)\n",
    "print(f\"Average Grade:{average_grade}\")\n",
    "\n",
    "#Finding the highest and the lowest grades\n",
    "highest_grade = max(grades)\n",
    "lowest_grade = min(grades)\n",
    "print(f\"Highest grade : {highest_grade}\")\n",
    "print(f\"Lowest grade: {lowest_grade}\")"
   ]
  },
  {
   "cell_type": "code",
   "execution_count": 10,
   "id": "7b0112e3",
   "metadata": {},
   "outputs": [
    {
     "name": "stdout",
     "output_type": "stream",
     "text": [
      "bananas are out of stock\n",
      "Inventory list: \n",
      "-apples\n",
      "-oranges\n",
      "-grapes\n",
      "-strawberries\n"
     ]
    }
   ],
   "source": [
    "#Managing an Inventory\n",
    "inventory = [\"apples\",\"bananas\",\"oranges\",\"grapes\"]\n",
    "\n",
    "#Adding a new item\n",
    "inventory.append(\"strawberries\")\n",
    "\n",
    "#Removing an item\n",
    "inventory.remove(\"bananas\")\n",
    "\n",
    "#Checking if an item is out of stock\n",
    "item = \"bananas\"\n",
    "if item in inventory:\n",
    "    print(f\"{item} are in stock.\")\n",
    "else:\n",
    "    print(f\"{item} are out of stock\")\n",
    "\n",
    "#Printing the inventory \n",
    "print(\"Inventory list: \")\n",
    "for item in inventory:\n",
    "    print(f\"-{item}\")"
   ]
  },
  {
   "cell_type": "code",
   "execution_count": null,
   "id": "20e714cc",
   "metadata": {},
   "outputs": [],
   "source": []
  }
 ],
 "metadata": {
  "kernelspec": {
   "display_name": "pydsa (3.13.3)",
   "language": "python",
   "name": "python3"
  },
  "language_info": {
   "codemirror_mode": {
    "name": "ipython",
    "version": 3
   },
   "file_extension": ".py",
   "mimetype": "text/x-python",
   "name": "python",
   "nbconvert_exporter": "python",
   "pygments_lexer": "ipython3",
   "version": "3.13.3"
  }
 },
 "nbformat": 4,
 "nbformat_minor": 5
}
