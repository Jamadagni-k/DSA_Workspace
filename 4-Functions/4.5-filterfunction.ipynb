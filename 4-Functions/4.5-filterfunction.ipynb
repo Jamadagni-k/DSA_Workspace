{
 "cells": [
  {
   "cell_type": "markdown",
   "id": "5fdafe9d",
   "metadata": {},
   "source": [
    "# Filter() function constructs an iterator from elements of an iterable for which a function returns true. It is used to filter out items from a list (or any other iterable) based on a condition"
   ]
  },
  {
   "cell_type": "code",
   "execution_count": 1,
   "id": "5032e87d",
   "metadata": {},
   "outputs": [],
   "source": [
    "def even(num):\n",
    "    if num % 2 == 0:\n",
    "        return True\n",
    "    "
   ]
  },
  {
   "cell_type": "code",
   "execution_count": 2,
   "id": "6b84d2f1",
   "metadata": {},
   "outputs": [
    {
     "data": {
      "text/plain": [
       "True"
      ]
     },
     "execution_count": 2,
     "metadata": {},
     "output_type": "execute_result"
    }
   ],
   "source": [
    "even(24)"
   ]
  },
  {
   "cell_type": "code",
   "execution_count": 3,
   "id": "e151738a",
   "metadata": {},
   "outputs": [
    {
     "data": {
      "text/plain": [
       "[2, 4, 6, 8, 10, 12]"
      ]
     },
     "execution_count": 3,
     "metadata": {},
     "output_type": "execute_result"
    }
   ],
   "source": [
    "lst=[1,2,3,4,5,6,7,8,9,10,11,12]\n",
    "list(filter(even, lst))"
   ]
  },
  {
   "cell_type": "code",
   "execution_count": 6,
   "id": "d0f3c3fb",
   "metadata": {},
   "outputs": [
    {
     "name": "stdout",
     "output_type": "stream",
     "text": [
      "[6, 7, 8, 9]\n"
     ]
    }
   ],
   "source": [
    "# Filter with a Lambda function\n",
    "numbers = [1,2,3,4,5,6,7,8,9]\n",
    "greater_than_five=list(filter(lambda x:x>5, numbers))\n",
    "print(greater_than_five)"
   ]
  },
  {
   "cell_type": "code",
   "execution_count": 1,
   "id": "1363b772",
   "metadata": {},
   "outputs": [
    {
     "name": "stdout",
     "output_type": "stream",
     "text": [
      "[6, 8]\n"
     ]
    }
   ],
   "source": [
    "## Filter with a Lambda function and multiple conditions\n",
    "numbers = [1,2,3,4,5,6,7,8,9]\n",
    "even_and_greater_than_five = list(filter(lambda x: x>5 and x % 2 ==0, numbers))\n",
    "print(even_and_greater_than_five)"
   ]
  },
  {
   "cell_type": "code",
   "execution_count": 4,
   "id": "8e02acb4",
   "metadata": {},
   "outputs": [
    {
     "data": {
      "text/plain": [
       "[{'name': 'John', 'age': 30}, {'name': 'Doe', 'age': 35}]"
      ]
     },
     "execution_count": 4,
     "metadata": {},
     "output_type": "execute_result"
    }
   ],
   "source": [
    "people =[{\n",
    "    \"name\": \"John\",\n",
    "    \"age\": 30\n",
    "}, {\n",
    "    \"name\": \"Jane\",\n",
    "    \"age\": 25\n",
    "}, {\n",
    "    \"name\": \"Doe\",\n",
    "    \"age\": 35\n",
    "},\n",
    "{\n",
    "    \"name\": \"Alice\",\n",
    "    \"age\": 22 \n",
    "}]\n",
    "\n",
    "def age_greater_than_25(person):\n",
    "    return person['age' ] > 25\n",
    "\n",
    "list(filter(age_greater_than_25, people))"
   ]
  },
  {
   "cell_type": "code",
   "execution_count": null,
   "id": "282468f6",
   "metadata": {},
   "outputs": [],
   "source": []
  }
 ],
 "metadata": {
  "kernelspec": {
   "display_name": "pydsa (3.13.3)",
   "language": "python",
   "name": "python3"
  },
  "language_info": {
   "codemirror_mode": {
    "name": "ipython",
    "version": 3
   },
   "file_extension": ".py",
   "mimetype": "text/x-python",
   "name": "python",
   "nbconvert_exporter": "python",
   "pygments_lexer": "ipython3",
   "version": "3.13.3"
  }
 },
 "nbformat": 4,
 "nbformat_minor": 5
}
