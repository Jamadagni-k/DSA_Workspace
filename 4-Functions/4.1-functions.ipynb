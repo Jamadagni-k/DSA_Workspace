{
 "cells": [
  {
   "cell_type": "markdown",
   "id": "d4143302",
   "metadata": {},
   "source": [
    "#Functions:\n",
    "\n",
    "##A function is a block of code that performs a specific task. Functions help in organizing code, reusing code and improving reabability"
   ]
  },
  {
   "cell_type": "code",
   "execution_count": 2,
   "id": "5cfd3d6a",
   "metadata": {},
   "outputs": [],
   "source": [
    "## Syntax\n",
    "def function_name(parameters):\n",
    "    \"\"\"Docstring\"\"\"\n",
    "    # Function body\n",
    "    return expression"
   ]
  },
  {
   "cell_type": "code",
   "execution_count": 3,
   "id": "6f55d9a6",
   "metadata": {},
   "outputs": [
    {
     "name": "stdout",
     "output_type": "stream",
     "text": [
      "the number is even\n"
     ]
    }
   ],
   "source": [
    "## Why function ?\n",
    "num=24\n",
    "if num%2==0:\n",
    "    print(\"the number is even\")\n",
    "else:\n",
    "    print(\"the number is odd\")"
   ]
  },
  {
   "cell_type": "code",
   "execution_count": 4,
   "id": "10a61f26",
   "metadata": {},
   "outputs": [],
   "source": [
    "def even_or_odd(num):\n",
    "    \"\"\"This function finds even or odd\"\"\"\n",
    "    if num%2==0:\n",
    "        print(\"The number is even\")\n",
    "    else:\n",
    "        print(\"the number is odd\")"
   ]
  },
  {
   "cell_type": "code",
   "execution_count": 8,
   "id": "d703c2e9",
   "metadata": {},
   "outputs": [
    {
     "name": "stdout",
     "output_type": "stream",
     "text": [
      "The number is even\n"
     ]
    }
   ],
   "source": [
    "##Call this fuction\n",
    "even_or_odd(24)"
   ]
  },
  {
   "cell_type": "code",
   "execution_count": null,
   "id": "e865ef9e",
   "metadata": {},
   "outputs": [],
   "source": []
  }
 ],
 "metadata": {
  "kernelspec": {
   "display_name": "pydsa (3.13.3)",
   "language": "python",
   "name": "python3"
  },
  "language_info": {
   "codemirror_mode": {
    "name": "ipython",
    "version": 3
   },
   "file_extension": ".py",
   "mimetype": "text/x-python",
   "name": "python",
   "nbconvert_exporter": "python",
   "pygments_lexer": "ipython3",
   "version": "3.13.3"
  }
 },
 "nbformat": 4,
 "nbformat_minor": 5
}
