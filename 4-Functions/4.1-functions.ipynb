{
 "cells": [
  {
   "cell_type": "markdown",
   "id": "d4143302",
   "metadata": {},
   "source": [
    "#Functions:\n",
    "\n",
    "##A function is a block of code that performs a specific task. Functions help in organizing code, reusing code and improving reabability"
   ]
  },
  {
   "cell_type": "code",
   "execution_count": 2,
   "id": "5cfd3d6a",
   "metadata": {},
   "outputs": [],
   "source": [
    "## Syntax\n",
    "def function_name(parameters):\n",
    "    \"\"\"Docstring\"\"\"\n",
    "    # Function body\n",
    "    return expression"
   ]
  },
  {
   "cell_type": "code",
   "execution_count": 3,
   "id": "6f55d9a6",
   "metadata": {},
   "outputs": [
    {
     "name": "stdout",
     "output_type": "stream",
     "text": [
      "the number is even\n"
     ]
    }
   ],
   "source": [
    "## Why function ?\n",
    "num=24\n",
    "if num%2==0:\n",
    "    print(\"the number is even\")\n",
    "else:\n",
    "    print(\"the number is odd\")"
   ]
  },
  {
   "cell_type": "code",
   "execution_count": 4,
   "id": "10a61f26",
   "metadata": {},
   "outputs": [],
   "source": [
    "def even_or_odd(num):\n",
    "    \"\"\"This function finds even or odd\"\"\"\n",
    "    if num%2==0:\n",
    "        print(\"The number is even\")\n",
    "    else:\n",
    "        print(\"the number is odd\")"
   ]
  },
  {
   "cell_type": "code",
   "execution_count": null,
   "id": "d703c2e9",
   "metadata": {},
   "outputs": [
    {
     "name": "stdout",
     "output_type": "stream",
     "text": [
      "The number is even\n"
     ]
    }
   ],
   "source": [
    "##Call this fuction \n",
    "even_or_odd(24)"
   ]
  },
  {
   "cell_type": "code",
   "execution_count": 1,
   "id": "e865ef9e",
   "metadata": {},
   "outputs": [
    {
     "name": "stdout",
     "output_type": "stream",
     "text": [
      "6\n"
     ]
    }
   ],
   "source": [
    "### Function with multiple parameters\n",
    "def add(a,b):\n",
    "    \"\"\"This function adds two numbers\"\"\"\n",
    "    #c = a + b\n",
    "    return a + b\n",
    "\n",
    "result = add(2, 4)\n",
    "print(result)"
   ]
  },
  {
   "cell_type": "code",
   "execution_count": null,
   "id": "160bf2ea",
   "metadata": {},
   "outputs": [
    {
     "name": "stdout",
     "output_type": "stream",
     "text": [
      "Hello, Agni\n"
     ]
    }
   ],
   "source": [
    "## Default parameters\n",
    "def greet(name):\n",
    "    print(f\"Hello, {name} Welcome to the Paradise\")\n",
    "\n",
    "greet(\"Agni\")"
   ]
  },
  {
   "cell_type": "code",
   "execution_count": 7,
   "id": "894f37a3",
   "metadata": {},
   "outputs": [
    {
     "name": "stdout",
     "output_type": "stream",
     "text": [
      "Hello, Agni Welcome to the Paradise\n",
      "Hello, Guest Welcome to the Paradise\n"
     ]
    }
   ],
   "source": [
    "def greet(name=\"Guest\"): # Default parameter\n",
    "    \"\"\"This function greets the user\"\"\"\n",
    "    # If no name is provided, it defaults to \"Guest\"\n",
    "    print(f\"Hello, {name} Welcome to the Paradise\")\n",
    "\n",
    "greet(\"Agni\")\n",
    "greet()  # Calls the function without an argument, using the default value"
   ]
  },
  {
   "cell_type": "code",
   "execution_count": 8,
   "id": "06bd88c3",
   "metadata": {},
   "outputs": [],
   "source": [
    "### Variable length Arguments\n",
    "## Positional and keyword arguments\n",
    "def print_numbers(*args):#can be *agni but we follow it as standard throughout the world\n",
    "   for numbers in args:\n",
    "       print(numbers)"
   ]
  },
  {
   "cell_type": "code",
   "execution_count": 9,
   "id": "f75689bf",
   "metadata": {},
   "outputs": [
    {
     "name": "stdout",
     "output_type": "stream",
     "text": [
      "1\n",
      "2\n",
      "3\n",
      "4\n",
      "5\n",
      "Agni\n"
     ]
    }
   ],
   "source": [
    "print_numbers(1, 2, 3, 4, 5, \"Agni\")  # Positional arguments"
   ]
  },
  {
   "cell_type": "code",
   "execution_count": 10,
   "id": "354c0266",
   "metadata": {},
   "outputs": [],
   "source": [
    "def print_numbers(*args):\n",
    "   for number in args:\n",
    "       print(number)"
   ]
  },
  {
   "cell_type": "code",
   "execution_count": 11,
   "id": "f1b8ba94",
   "metadata": {},
   "outputs": [
    {
     "name": "stdout",
     "output_type": "stream",
     "text": [
      "1\n",
      "2\n",
      "3\n",
      "4\n",
      "5\n",
      "Agni\n"
     ]
    }
   ],
   "source": [
    "print_numbers(1, 2, 3, 4, 5, \"Agni\")"
   ]
  },
  {
   "cell_type": "code",
   "execution_count": null,
   "id": "ab468e11",
   "metadata": {},
   "outputs": [],
   "source": [
    "### Keyword arguments\n",
    "def print_details(**kwargs):\n",
    "    \"\"\"This function prints details\"\"\"\n",
    "    # kwargs is a dictionary of keyword argument\n",
    "    for key,value in kwargs.items():\n",
    "       print(f\"{key}: {value}\")"
   ]
  },
  {
   "cell_type": "code",
   "execution_count": 13,
   "id": "929375a6",
   "metadata": {},
   "outputs": [
    {
     "name": "stdout",
     "output_type": "stream",
     "text": [
      "name: Agni\n",
      "age: 37\n",
      "country: India\n"
     ]
    }
   ],
   "source": [
    "print_details(name=\"Agni\", age=\"37\", country=\"India\")"
   ]
  },
  {
   "cell_type": "code",
   "execution_count": 14,
   "id": "f9fa2dee",
   "metadata": {},
   "outputs": [],
   "source": [
    "def print_details(*args,**kwargs):\n",
    "    for val in args:\n",
    "        print(f\"Positional arguments :{val}\")\n",
    "    \n",
    "    for key,value in kwargs.items():\n",
    "        print(f\"{key}: {value}\")"
   ]
  },
  {
   "cell_type": "code",
   "execution_count": 16,
   "id": "606fe519",
   "metadata": {},
   "outputs": [
    {
     "name": "stdout",
     "output_type": "stream",
     "text": [
      "Positional arguments :1\n",
      "Positional arguments :2\n",
      "Positional arguments :3\n",
      "Positional arguments :Agni\n",
      "name: Agni\n",
      "age: 37\n",
      "country: India\n"
     ]
    }
   ],
   "source": [
    "print_details(1,2,3,\"Agni\" ,name=\"Agni\", age=\"37\", country=\"India\")"
   ]
  },
  {
   "cell_type": "code",
   "execution_count": 17,
   "id": "088dca9b",
   "metadata": {},
   "outputs": [
    {
     "data": {
      "text/plain": [
       "(6, 2)"
      ]
     },
     "execution_count": 17,
     "metadata": {},
     "output_type": "execute_result"
    }
   ],
   "source": [
    "###Return Statement\n",
    "def multiply(a,b):\n",
    "    return a*b,a # can return multiple values\n",
    "\n",
    "multiply(2,3)"
   ]
  },
  {
   "cell_type": "code",
   "execution_count": null,
   "id": "50ce092a",
   "metadata": {},
   "outputs": [],
   "source": []
  }
 ],
 "metadata": {
  "kernelspec": {
   "display_name": "pydsa (3.13.3)",
   "language": "python",
   "name": "python3"
  },
  "language_info": {
   "codemirror_mode": {
    "name": "ipython",
    "version": 3
   },
   "file_extension": ".py",
   "mimetype": "text/x-python",
   "name": "python",
   "nbconvert_exporter": "python",
   "pygments_lexer": "ipython3",
   "version": "3.13.3"
  }
 },
 "nbformat": 4,
 "nbformat_minor": 5
}
