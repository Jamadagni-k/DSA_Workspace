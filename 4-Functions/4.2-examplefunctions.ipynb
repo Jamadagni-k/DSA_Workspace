{
 "cells": [
  {
   "cell_type": "markdown",
   "id": "bdef0f41",
   "metadata": {},
   "source": [
    "## Example 1 : Temperature Converter"
   ]
  },
  {
   "cell_type": "code",
   "execution_count": 1,
   "id": "7dac09c6",
   "metadata": {},
   "outputs": [
    {
     "name": "stdout",
     "output_type": "stream",
     "text": [
      "77.0\n",
      "25.0\n"
     ]
    }
   ],
   "source": [
    "def convert_temperature(temp,unit):\n",
    "    \"\"\" This function converts temperature between Celcius and Fahrenheit.\"\"\"\n",
    "    if unit == \"C\":\n",
    "        return (temp * 9/5) +32 # Converts celcius to fahrenheit\n",
    "    elif unit == \"F\":\n",
    "        return (temp-32) * 5/9 # Coverts fahrenheit to celcius\n",
    "    else:\n",
    "        return None # If the unit is not recognized, return None\n",
    "    \n",
    "print(convert_temperature(25,'C'))\n",
    "print(convert_temperature(77,'F'))"
   ]
  },
  {
   "cell_type": "markdown",
   "id": "6b8eea74",
   "metadata": {},
   "source": [
    "## Example 2 :Password Strength Checker"
   ]
  },
  {
   "cell_type": "code",
   "execution_count": 3,
   "id": "0ac07cb7",
   "metadata": {},
   "outputs": [
    {
     "name": "stdout",
     "output_type": "stream",
     "text": [
      "True\n",
      "False\n",
      "False\n",
      "True\n"
     ]
    }
   ],
   "source": [
    "def is_strong_password(password):\n",
    "    \"\"\"This function checks if the password is strong or not\"\"\"\n",
    "    if len(password) < 8:\n",
    "        return False\n",
    "    if not any (char.isdigit() for char in password):\n",
    "        return False\n",
    "    if not any(char.isupper() for char in password):\n",
    "        return False\n",
    "    if not any(char.islower() for char in password):\n",
    "        return False\n",
    "    if not any(char in \"!@#$%^&*()-_=+[]|;:,.<>?/\" for char in password):\n",
    "        return False\n",
    "    return True\n",
    "\n",
    "## Calling the function\n",
    "print(is_strong_password(\"Password123!\"))  # True\n",
    "print(is_strong_password(\"weakpass\"))       # False\n",
    "print(is_strong_password(\"WeakPwd\"))\n",
    "print(is_strong_password(\"Str0ngPwd!\"))"
   ]
  },
  {
   "cell_type": "code",
   "execution_count": null,
   "id": "47886fea",
   "metadata": {},
   "outputs": [],
   "source": []
  }
 ],
 "metadata": {
  "kernelspec": {
   "display_name": "pydsa (3.13.3)",
   "language": "python",
   "name": "python3"
  },
  "language_info": {
   "codemirror_mode": {
    "name": "ipython",
    "version": 3
   },
   "file_extension": ".py",
   "mimetype": "text/x-python",
   "name": "python",
   "nbconvert_exporter": "python",
   "pygments_lexer": "ipython3",
   "version": "3.13.3"
  }
 },
 "nbformat": 4,
 "nbformat_minor": 5
}
