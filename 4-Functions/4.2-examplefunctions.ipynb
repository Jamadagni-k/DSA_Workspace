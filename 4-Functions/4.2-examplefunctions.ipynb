{
 "cells": [
  {
   "cell_type": "markdown",
   "id": "bdef0f41",
   "metadata": {},
   "source": [
    "## Example 1 : Temperature Converter"
   ]
  },
  {
   "cell_type": "code",
   "execution_count": 1,
   "id": "7dac09c6",
   "metadata": {},
   "outputs": [
    {
     "name": "stdout",
     "output_type": "stream",
     "text": [
      "77.0\n",
      "25.0\n"
     ]
    }
   ],
   "source": [
    "def convert_temperature(temp,unit):\n",
    "    \"\"\" This function converts temperature between Celcius and Fahrenheit.\"\"\"\n",
    "    if unit == \"C\":\n",
    "        return (temp * 9/5) +32 # Converts celcius to fahrenheit\n",
    "    elif unit == \"F\":\n",
    "        return (temp-32) * 5/9 # Coverts fahrenheit to celcius\n",
    "    else:\n",
    "        return None # If the unit is not recognized, return None\n",
    "    \n",
    "print(convert_temperature(25,'C'))\n",
    "print(convert_temperature(77,'F'))"
   ]
  },
  {
   "cell_type": "markdown",
   "id": "6b8eea74",
   "metadata": {},
   "source": [
    "## Example 2 :Password Strength Checker"
   ]
  },
  {
   "cell_type": "code",
   "execution_count": 3,
   "id": "0ac07cb7",
   "metadata": {},
   "outputs": [
    {
     "name": "stdout",
     "output_type": "stream",
     "text": [
      "True\n",
      "False\n",
      "False\n",
      "True\n"
     ]
    }
   ],
   "source": [
    "def is_strong_password(password):\n",
    "    \"\"\"This function checks if the password is strong or not\"\"\"\n",
    "    if len(password) < 8:\n",
    "        return False\n",
    "    if not any (char.isdigit() for char in password):\n",
    "        return False\n",
    "    if not any(char.isupper() for char in password):\n",
    "        return False\n",
    "    if not any(char.islower() for char in password):\n",
    "        return False\n",
    "    if not any(char in \"!@#$%^&*()-_=+[]|;:,.<>?/\" for char in password):\n",
    "        return False\n",
    "    return True\n",
    "\n",
    "## Calling the function\n",
    "print(is_strong_password(\"Password123!\"))  # True\n",
    "print(is_strong_password(\"weakpass\"))       # False\n",
    "print(is_strong_password(\"WeakPwd\"))\n",
    "print(is_strong_password(\"Str0ngPwd!\"))"
   ]
  },
  {
   "cell_type": "markdown",
   "id": "16ab93ff",
   "metadata": {},
   "source": [
    "## Example 3 Calculate the total cost of items in a shopping cart"
   ]
  },
  {
   "cell_type": "code",
   "execution_count": 5,
   "id": "47886fea",
   "metadata": {},
   "outputs": [
    {
     "name": "stdout",
     "output_type": "stream",
     "text": [
      "Total cost of items in the cart: $5.00\n"
     ]
    }
   ],
   "source": [
    "def calculate_total_cost(cart):\n",
    "    total_cost=0\n",
    "    for item in cart:\n",
    "        total_cost += item['price'] * item['quantity']\n",
    "    return total_cost\n",
    "\n",
    "\n",
    "## Example cart data\n",
    "cart = [{'name':'Apple', 'price':0.5,'quantity':4},\n",
    "        {'name':'Banana', 'price':0.3,'quantity':6},\n",
    "        {'name':'Orange', 'price':0.4,'quantity':3}\n",
    "        ]\n",
    "\n",
    "## Calling the function\n",
    "total_cost = calculate_total_cost(cart)\n",
    "print(f\"Total cost of items in the cart: ${total_cost:.2f}\")"
   ]
  },
  {
   "cell_type": "markdown",
   "id": "414d773e",
   "metadata": {},
   "source": [
    "## Example 4 Check if the string is palindrome"
   ]
  },
  {
   "cell_type": "code",
   "execution_count": 7,
   "id": "2d6eb420",
   "metadata": {},
   "outputs": [
    {
     "name": "stdout",
     "output_type": "stream",
     "text": [
      "True\n",
      "False\n"
     ]
    }
   ],
   "source": [
    "def is_palindrome(s):\n",
    "    \"\"\" This function checks if a string is a palindrome.\"\"\"\n",
    "    s=s.lower().replace(\" \",\"\")\n",
    "    return s == s[::-1]\n",
    "print(is_palindrome(\"A man a plan a canal Panama\")) # True\n",
    "print(is_palindrome(\"Hello\")) # False"
   ]
  },
  {
   "cell_type": "markdown",
   "id": "fe515076",
   "metadata": {},
   "source": [
    "## Example 5: Calculate the factorials of a number using recursion"
   ]
  },
  {
   "cell_type": "code",
   "execution_count": null,
   "id": "f57ac275",
   "metadata": {},
   "outputs": [
    {
     "name": "stdout",
     "output_type": "stream",
     "text": [
      "120\n"
     ]
    }
   ],
   "source": [
    "def factorial(n):\n",
    "    if n==0:\n",
    "        return 1\n",
    "    else:\n",
    "        return n * factorial(n-1)\n",
    "    \"\"\"# Recursion to calculate factorial call the same function with n-1 \n",
    "    until it reaches 0\"\"\"\n",
    "\n",
    "print(factorial(5))"
   ]
  },
  {
   "cell_type": "markdown",
   "id": "322c4784",
   "metadata": {},
   "source": [
    "## Example 6 A function to read a file and count the frquency of each word"
   ]
  },
  {
   "cell_type": "code",
   "execution_count": 13,
   "id": "9a8ec17f",
   "metadata": {},
   "outputs": [
    {
     "name": "stdout",
     "output_type": "stream",
     "text": [
      "{'hello': 1, 'world': 1, 'how': 1, 'are': 1, 'you': 1, 'my': 1, 'name': 1, 'is': 1, 'agni': 1}\n"
     ]
    }
   ],
   "source": [
    "def count_word_frquency(file_path):\n",
    "    \"\"\"A function to read a file and count the frequency of each word.\"\"\"\n",
    "    word_count ={}\n",
    "    with open(file_path,'r') as file:\n",
    "        for line in file:\n",
    "            words=line.split()\n",
    "            for word in words:\n",
    "                word = word.lower().strip('.,!?\";:()[]{}')\n",
    "                word_count[word] = word_count.get(word,0)+1\n",
    "    return word_count\n",
    "\n",
    "file_path = '/Users/jamadagnikotamsetty/Jamadagni Kotamsetty/MyCode/Python_DSA_Bootcamp/4-Functions/sample.txt'\n",
    "word_frequency= count_word_frquency(file_path)\n",
    "print(word_frequency)"
   ]
  },
  {
   "cell_type": "markdown",
   "id": "912a70ae",
   "metadata": {},
   "source": [
    "## Example 7: Validate Email Address"
   ]
  },
  {
   "cell_type": "code",
   "execution_count": 14,
   "id": "148b68eb",
   "metadata": {},
   "outputs": [
    {
     "name": "stdout",
     "output_type": "stream",
     "text": [
      "True\n",
      "False\n"
     ]
    }
   ],
   "source": [
    "import re\n",
    "\n",
    "#Email validation function\n",
    "def validate_email(email):\n",
    "    \"\"\"This function validates an email addresq\"\"\"\n",
    "    pattern = r'^[a-zA-Z0-9._%+-]+@[a-zA-Z0-9.-]+\\.[a-zA-Z]{2,}$'\n",
    "    if re.match(pattern, email):\n",
    "        return True\n",
    "    else:\n",
    "        return False\n",
    "    \n",
    "print(validate_email(\"test@example.com\"))\n",
    "print(validate_email(\"invalid-email\"))"
   ]
  },
  {
   "cell_type": "code",
   "execution_count": null,
   "id": "0e38c663",
   "metadata": {},
   "outputs": [],
   "source": []
  }
 ],
 "metadata": {
  "kernelspec": {
   "display_name": "pydsa (3.13.3)",
   "language": "python",
   "name": "python3"
  },
  "language_info": {
   "codemirror_mode": {
    "name": "ipython",
    "version": 3
   },
   "file_extension": ".py",
   "mimetype": "text/x-python",
   "name": "python",
   "nbconvert_exporter": "python",
   "pygments_lexer": "ipython3",
   "version": "3.13.3"
  }
 },
 "nbformat": 4,
 "nbformat_minor": 5
}
