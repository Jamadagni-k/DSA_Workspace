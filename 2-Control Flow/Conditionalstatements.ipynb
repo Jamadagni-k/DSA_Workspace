{
 "cells": [
  {
   "cell_type": "code",
   "execution_count": 2,
   "id": "d91707a7",
   "metadata": {},
   "outputs": [
    {
     "name": "stdout",
     "output_type": "stream",
     "text": [
      "You are allowwed to vote in the elections\n"
     ]
    }
   ],
   "source": [
    "##if statement\n",
    "age = 20\n",
    "\n",
    "if age>=18:\n",
    "    print(\"You are allowwed to vote in the elections\")\n"
   ]
  },
  {
   "cell_type": "code",
   "execution_count": 3,
   "id": "ac66bf63",
   "metadata": {},
   "outputs": [
    {
     "data": {
      "text/plain": [
       "True"
      ]
     },
     "execution_count": 3,
     "metadata": {},
     "output_type": "execute_result"
    }
   ],
   "source": [
    "age>=18"
   ]
  },
  {
   "cell_type": "code",
   "execution_count": null,
   "id": "03b0a6e7",
   "metadata": {},
   "outputs": [
    {
     "name": "stdout",
     "output_type": "stream",
     "text": [
      "You are not eligible to vote, you are a minor \n"
     ]
    }
   ],
   "source": [
    "##else\n",
    "age =20\n",
    "if age>=18:\n",
    "    print(\"you are allowwed to vote in the elections\")\n",
    "else:\n",
    "    print(\"You are not eligible to vote, you are a minor \")"
   ]
  },
  {
   "cell_type": "code",
   "execution_count": 9,
   "id": "4ea3f137",
   "metadata": {},
   "outputs": [
    {
     "name": "stdout",
     "output_type": "stream",
     "text": [
      "You are a child\n"
     ]
    }
   ],
   "source": [
    "if age<13:\n",
    "    print(\"You are a child\")\n",
    "elif age<18:\n",
    "    print(\"You are a teenager\")\n",
    "else:\n",
    "    print(\"You are an adult\")    "
   ]
  },
  {
   "cell_type": "code",
   "execution_count": 2,
   "id": "11d155fc",
   "metadata": {},
   "outputs": [
    {
     "name": "stdout",
     "output_type": "stream",
     "text": [
      "The number is zero or negative\n"
     ]
    }
   ],
   "source": [
    "num=int(input(\"Enter the number\"))\n",
    "\n",
    "if num>=0:\n",
    "    print(\"The number is positive \")\n",
    "    if num%2==0:\n",
    "        print(\"The number is even\")\n",
    "    else:\n",
    "        print(\"The number is odd\")\n",
    "else:\n",
    "    print(\"The number is zero or negative\")\n",
    "    "
   ]
  },
  {
   "cell_type": "code",
   "execution_count": 5,
   "id": "6d702b65",
   "metadata": {},
   "outputs": [
    {
     "name": "stdout",
     "output_type": "stream",
     "text": [
      "The year is a leap year\n"
     ]
    }
   ],
   "source": [
    "##Determine if a year is leap year using nested condition statement\n",
    "\n",
    "year=int(input(\"Enter the year you want to verify \"))\n",
    "\n",
    "if year%4==0:\n",
    "    print(\"The year is a leap year\")\n",
    "else:\n",
    "    print(\"The year is not a leap year\")"
   ]
  },
  {
   "cell_type": "code",
   "execution_count": null,
   "id": "fbe13d2a",
   "metadata": {},
   "outputs": [],
   "source": []
  },
  {
   "cell_type": "code",
   "execution_count": null,
   "id": "72ca782c",
   "metadata": {},
   "outputs": [],
   "source": []
  },
  {
   "cell_type": "code",
   "execution_count": null,
   "id": "741e2847",
   "metadata": {},
   "outputs": [],
   "source": []
  }
 ],
 "metadata": {
  "kernelspec": {
   "display_name": "pydsa",
   "language": "python",
   "name": "python3"
  },
  "language_info": {
   "codemirror_mode": {
    "name": "ipython",
    "version": 3
   },
   "file_extension": ".py",
   "mimetype": "text/x-python",
   "name": "python",
   "nbconvert_exporter": "python",
   "pygments_lexer": "ipython3",
   "version": "3.12.11"
  }
 },
 "nbformat": 4,
 "nbformat_minor": 5
}
