{
 "cells": [
  {
   "cell_type": "markdown",
   "id": "0d0a94b9",
   "metadata": {},
   "source": [
    "Insertion Sort Algorithm\n",
    "                            12 25 11 34 90 22\n",
    "\n"
   ]
  },
  {
   "cell_type": "code",
   "execution_count": 1,
   "id": "8a085809",
   "metadata": {},
   "outputs": [
    {
     "name": "stdout",
     "output_type": "stream",
     "text": [
      "Sorted Elements : [11, 12, 22, 25, 34, 90]\n"
     ]
    }
   ],
   "source": [
    "\n",
    "def insertion_sort(arr):\n",
    "    n = len(arr)\n",
    "\n",
    "    for current in range(1,n):\n",
    "        currentCard = arr[current]\n",
    "        correctPosition = current-1 # It will go from i-1 to 0\n",
    "        while correctPosition >=0:\n",
    "            if(arr[correctPosition] < currentCard):\n",
    "                break\n",
    "            else:\n",
    "                arr[correctPosition +1 ] = arr[correctPosition]\n",
    "                correctPosition-=1\n",
    "            arr[correctPosition + 1] = currentCard\n",
    "\n",
    "    return arr\n",
    "\n",
    "\n",
    "unsorted_list = [12,25,11,34,90,22]\n",
    "sorted_list = insertion_sort(unsorted_list)\n",
    "print(\"Sorted Elements :\", sorted_list)"
   ]
  },
  {
   "cell_type": "markdown",
   "id": "168bf7c8",
   "metadata": {},
   "source": []
  },
  {
   "cell_type": "code",
   "execution_count": null,
   "id": "cfc46f22",
   "metadata": {},
   "outputs": [],
   "source": []
  }
 ],
 "metadata": {
  "kernelspec": {
   "display_name": "pydsa (3.13.3)",
   "language": "python",
   "name": "python3"
  },
  "language_info": {
   "codemirror_mode": {
    "name": "ipython",
    "version": 3
   },
   "file_extension": ".py",
   "mimetype": "text/x-python",
   "name": "python",
   "nbconvert_exporter": "python",
   "pygments_lexer": "ipython3",
   "version": "3.13.3"
  }
 },
 "nbformat": 4,
 "nbformat_minor": 5
}
