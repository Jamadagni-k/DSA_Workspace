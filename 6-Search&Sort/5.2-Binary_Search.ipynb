{
 "cells": [
  {
   "cell_type": "markdown",
   "id": "3f133350",
   "metadata": {},
   "source": [
    "Binary Search \n",
    "ONly can work on a sorted Array\n",
    "list = 10 23 33 45 50 70 85\n",
    "\n",
    "1. I will conside the full array or list\n",
    "start =0      end = n-1\n",
    "\n",
    "2. See the middle element :\n",
    "middle = (end - start)//2 \n",
    "1st iteration => mid =3 if target is 50\n",
    "Will check if the number is less than , greater than or equal to the mid\n",
    "the target here is 50 \n",
    "so arr[mid] = 45< 50\n",
    "\n",
    "2nd iteration => mid = 5 (taken from the list or array above )\n",
    "mid = 5\n",
    "arr[mid] = 70 > 70\n",
    "\n",
    "end will move mid -1 \n",
    "start/end = 4\n",
    "\n",
    "3rd Iteration => mid =4 \n",
    "arr[mid] = 50 == 50 \n",
    "so we have found our element \n"
   ]
  },
  {
   "cell_type": "code",
   "execution_count": 6,
   "id": "97be025f",
   "metadata": {},
   "outputs": [
    {
     "name": "stdout",
     "output_type": "stream",
     "text": [
      "6\n"
     ]
    }
   ],
   "source": [
    "def binary_search(arr, target):\n",
    "    size = len(arr)\n",
    "    start = 0\n",
    "    end = size - 1  \n",
    "    while (start <= end ):\n",
    "        mid = (start + end)//2\n",
    "        if (arr[mid]== target):\n",
    "            return mid\n",
    "        elif (arr[mid] > target):\n",
    "            end = mid - 1\n",
    "        elif (arr[mid] < target):\n",
    "            start = mid + 1\n",
    "    return -1\n",
    "\n",
    "sorted_list = [10,23,35,45,50,70,85]\n",
    "target = 85\n",
    "\n",
    "result = binary_search(sorted_list, target)\n",
    "print(result)"
   ]
  },
  {
   "cell_type": "code",
   "execution_count": null,
   "id": "80fbe411",
   "metadata": {},
   "outputs": [],
   "source": []
  }
 ],
 "metadata": {
  "kernelspec": {
   "display_name": "pydsa (3.13.3)",
   "language": "python",
   "name": "python3"
  },
  "language_info": {
   "codemirror_mode": {
    "name": "ipython",
    "version": 3
   },
   "file_extension": ".py",
   "mimetype": "text/x-python",
   "name": "python",
   "nbconvert_exporter": "python",
   "pygments_lexer": "ipython3",
   "version": "3.13.3"
  }
 },
 "nbformat": 4,
 "nbformat_minor": 5
}
