{
 "cells": [
  {
   "cell_type": "markdown",
   "id": "568d66f8",
   "metadata": {},
   "source": [
    "Selection sort \n",
    "12 25 11 34 90 22\n",
    "11 12 22 25 34 90\n",
    "\n",
    "Select \n",
    "In each pass we see the array and select the minimim.\n",
    "We swap that to the right position\n",
    "\n",
    "Pass 1 - 11 25 12 34 90 22\n",
    "Pass 2 - 11 -> 12 25 34 90 22\n",
    "Pass 3 - 11 12 -> 22 25 34 90\n",
    ".\n",
    ".\n",
    ".\n",
    "n-1 Passes\n",
    "\n"
   ]
  },
  {
   "cell_type": "code",
   "execution_count": null,
   "id": "6c89bb5f",
   "metadata": {},
   "outputs": [],
   "source": [
    "def selection_srt(lst):\n",
    "    # Your code goes here\n",
    "    new_list=[]\n",
    "    size = len(lst)\n",
    "    for num in range(0,size):\n",
    "        for j in range(num,size-1):\n",
    "            if lst[j]>lst[size-1]:\n",
    "                new_list.append(lst[j])\n",
    "            \n",
    "    return new_list       \n",
    "    pass\n"
   ]
  },
  {
   "cell_type": "markdown",
   "id": "c9257c53",
   "metadata": {},
   "source": []
  },
  {
   "cell_type": "code",
   "execution_count": 3,
   "id": "25fcb4ce",
   "metadata": {},
   "outputs": [
    {
     "name": "stdout",
     "output_type": "stream",
     "text": [
      "Sorted list is: [11, 12, 22, 25, 34, 90]\n"
     ]
    }
   ],
   "source": [
    "def selection_sort(arr):\n",
    "    n = len(arr)\n",
    "    #min_index = 0\n",
    "    \n",
    "    for i in range(n-1):\n",
    "        min_index = i\n",
    "        \n",
    "        for j in range(i+1,n):\n",
    "            if (arr[j] < arr[min_index]):\n",
    "                min_index = j\n",
    "        arr[i],arr[min_index] = arr[min_index],arr[i]      \n",
    "    \n",
    "    return arr\n",
    "\n",
    "unsorted_list = [12,25,11,34,90,22] #[5,4,3,2,1]\n",
    "sorted_list = selection_sort(unsorted_list)\n",
    "print(\"Sorted list is:\", sorted_list)"
   ]
  },
  {
   "cell_type": "code",
   "execution_count": null,
   "id": "2bd09cc3",
   "metadata": {},
   "outputs": [],
   "source": []
  }
 ],
 "metadata": {
  "kernelspec": {
   "display_name": "pydsa (3.13.3)",
   "language": "python",
   "name": "python3"
  },
  "language_info": {
   "codemirror_mode": {
    "name": "ipython",
    "version": 3
   },
   "file_extension": ".py",
   "mimetype": "text/x-python",
   "name": "python",
   "nbconvert_exporter": "python",
   "pygments_lexer": "ipython3",
   "version": "3.13.3"
  }
 },
 "nbformat": 4,
 "nbformat_minor": 5
}
